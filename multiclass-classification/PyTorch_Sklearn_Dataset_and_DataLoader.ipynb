{
  "nbformat": 4,
  "nbformat_minor": 0,
  "metadata": {
    "colab": {
      "provenance": [],
      "authorship_tag": "ABX9TyMmiqzXQtQnqCUap01S23zA",
      "include_colab_link": true
    },
    "kernelspec": {
      "name": "python3",
      "display_name": "Python 3"
    },
    "language_info": {
      "name": "python"
    }
  },
  "cells": [
    {
      "cell_type": "markdown",
      "metadata": {
        "id": "view-in-github",
        "colab_type": "text"
      },
      "source": [
        "<a href=\"https://colab.research.google.com/github/rkrmishra/pytorch-work/blob/main/multiclass-classification/PyTorch_Sklearn_Dataset_and_DataLoader.ipynb\" target=\"_parent\"><img src=\"https://colab.research.google.com/assets/colab-badge.svg\" alt=\"Open In Colab\"/></a>"
      ]
    },
    {
      "cell_type": "code",
      "execution_count": 84,
      "metadata": {
        "id": "tQwQYFdnJx-_"
      },
      "outputs": [],
      "source": [
        "import torch\n",
        "import torch.nn as nn\n",
        "import torch.optim as optim\n",
        "from torch.utils.data import Dataset, DataLoader\n",
        "from sklearn.datasets import load_digits\n",
        "from sklearn.model_selection import train_test_split\n",
        "from sklearn.preprocessing import StandardScaler\n",
        "from sklearn.metrics import accuracy_score\n",
        "import matplotlib.pyplot as plt"
      ]
    },
    {
      "cell_type": "markdown",
      "source": [
        "## Load dataset and use describe field to unstand what does this dataset contains"
      ],
      "metadata": {
        "id": "IXwmaAUWR8a8"
      }
    },
    {
      "cell_type": "code",
      "source": [
        "digits = load_digits()\n",
        "digits.DESCR"
      ],
      "metadata": {
        "colab": {
          "base_uri": "https://localhost:8080/",
          "height": 104
        },
        "id": "5Fj-lDCGKogj",
        "outputId": "27fd28de-c17b-4fe1-ab4f-1dff14077383"
      },
      "execution_count": 85,
      "outputs": [
        {
          "output_type": "execute_result",
          "data": {
            "text/plain": [
              "\".. _digits_dataset:\\n\\nOptical recognition of handwritten digits dataset\\n--------------------------------------------------\\n\\n**Data Set Characteristics:**\\n\\n:Number of Instances: 1797\\n:Number of Attributes: 64\\n:Attribute Information: 8x8 image of integer pixels in the range 0..16.\\n:Missing Attribute Values: None\\n:Creator: E. Alpaydin (alpaydin '@' boun.edu.tr)\\n:Date: July; 1998\\n\\nThis is a copy of the test set of the UCI ML hand-written digits datasets\\nhttps://archive.ics.uci.edu/ml/datasets/Optical+Recognition+of+Handwritten+Digits\\n\\nThe data set contains images of hand-written digits: 10 classes where\\neach class refers to a digit.\\n\\nPreprocessing programs made available by NIST were used to extract\\nnormalized bitmaps of handwritten digits from a preprinted form. From a\\ntotal of 43 people, 30 contributed to the training set and different 13\\nto the test set. 32x32 bitmaps are divided into nonoverlapping blocks of\\n4x4 and the number of on pixels are counted in each block. This generates\\nan input matrix of 8x8 where each element is an integer in the range\\n0..16. This reduces dimensionality and gives invariance to small\\ndistortions.\\n\\nFor info on NIST preprocessing routines, see M. D. Garris, J. L. Blue, G.\\nT. Candela, D. L. Dimmick, J. Geist, P. J. Grother, S. A. Janet, and C.\\nL. Wilson, NIST Form-Based Handprint Recognition System, NISTIR 5469,\\n1994.\\n\\n.. dropdown:: References\\n\\n  - C. Kaynak (1995) Methods of Combining Multiple Classifiers and Their\\n    Applications to Handwritten Digit Recognition, MSc Thesis, Institute of\\n    Graduate Studies in Science and Engineering, Bogazici University.\\n  - E. Alpaydin, C. Kaynak (1998) Cascading Classifiers, Kybernetika.\\n  - Ken Tang and Ponnuthurai N. Suganthan and Xi Yao and A. Kai Qin.\\n    Linear dimensionalityreduction using relevance weighted LDA. School of\\n    Electrical and Electronic Engineering Nanyang Technological University.\\n    2005.\\n  - Claudio Gentile. A New Approximate Maximal Margin Classification\\n    Algorithm. NIPS. 2000.\\n\""
            ],
            "application/vnd.google.colaboratory.intrinsic+json": {
              "type": "string"
            }
          },
          "metadata": {},
          "execution_count": 85
        }
      ]
    },
    {
      "cell_type": "markdown",
      "source": [
        "## Let's see what all field are there in digits dataset"
      ],
      "metadata": {
        "id": "rn4je7blSl-j"
      }
    },
    {
      "cell_type": "code",
      "source": [
        "digits.data[0], digits.images[0], digits.feature_names[0], digits.target[0], digits.target_names[0], digits.frame"
      ],
      "metadata": {
        "colab": {
          "base_uri": "https://localhost:8080/"
        },
        "id": "dTjvbFU8PHvn",
        "outputId": "e6d94764-b511-4d10-f79d-10fcd729cd26"
      },
      "execution_count": 86,
      "outputs": [
        {
          "output_type": "execute_result",
          "data": {
            "text/plain": [
              "(array([ 0.,  0.,  5., 13.,  9.,  1.,  0.,  0.,  0.,  0., 13., 15., 10.,\n",
              "        15.,  5.,  0.,  0.,  3., 15.,  2.,  0., 11.,  8.,  0.,  0.,  4.,\n",
              "        12.,  0.,  0.,  8.,  8.,  0.,  0.,  5.,  8.,  0.,  0.,  9.,  8.,\n",
              "         0.,  0.,  4., 11.,  0.,  1., 12.,  7.,  0.,  0.,  2., 14.,  5.,\n",
              "        10., 12.,  0.,  0.,  0.,  0.,  6., 13., 10.,  0.,  0.,  0.]),\n",
              " array([[ 0.,  0.,  5., 13.,  9.,  1.,  0.,  0.],\n",
              "        [ 0.,  0., 13., 15., 10., 15.,  5.,  0.],\n",
              "        [ 0.,  3., 15.,  2.,  0., 11.,  8.,  0.],\n",
              "        [ 0.,  4., 12.,  0.,  0.,  8.,  8.,  0.],\n",
              "        [ 0.,  5.,  8.,  0.,  0.,  9.,  8.,  0.],\n",
              "        [ 0.,  4., 11.,  0.,  1., 12.,  7.,  0.],\n",
              "        [ 0.,  2., 14.,  5., 10., 12.,  0.,  0.],\n",
              "        [ 0.,  0.,  6., 13., 10.,  0.,  0.,  0.]]),\n",
              " 'pixel_0_0',\n",
              " 0,\n",
              " 0,\n",
              " None)"
            ]
          },
          "metadata": {},
          "execution_count": 86
        }
      ]
    },
    {
      "cell_type": "markdown",
      "source": [
        "## Prepare for processing\n",
        "X : With features\n",
        "\n",
        "y : target"
      ],
      "metadata": {
        "id": "j64i3IR3SJ4X"
      }
    },
    {
      "cell_type": "code",
      "source": [
        "X, y = digits.data, digits.target\n",
        "X[0], y[0]"
      ],
      "metadata": {
        "colab": {
          "base_uri": "https://localhost:8080/"
        },
        "id": "D-Qfjg59NZgJ",
        "outputId": "de2c0faa-cf09-475e-d3aa-88d956a77ca0"
      },
      "execution_count": 87,
      "outputs": [
        {
          "output_type": "execute_result",
          "data": {
            "text/plain": [
              "(array([ 0.,  0.,  5., 13.,  9.,  1.,  0.,  0.,  0.,  0., 13., 15., 10.,\n",
              "        15.,  5.,  0.,  0.,  3., 15.,  2.,  0., 11.,  8.,  0.,  0.,  4.,\n",
              "        12.,  0.,  0.,  8.,  8.,  0.,  0.,  5.,  8.,  0.,  0.,  9.,  8.,\n",
              "         0.,  0.,  4., 11.,  0.,  1., 12.,  7.,  0.,  0.,  2., 14.,  5.,\n",
              "        10., 12.,  0.,  0.,  0.,  0.,  6., 13., 10.,  0.,  0.,  0.]),\n",
              " 0)"
            ]
          },
          "metadata": {},
          "execution_count": 87
        }
      ]
    },
    {
      "cell_type": "markdown",
      "source": [
        "## Plot the image for validation"
      ],
      "metadata": {
        "id": "DuH15-q5Sb_S"
      }
    },
    {
      "cell_type": "code",
      "source": [
        "plt.figure(1, figsize=(3, 3))\n",
        "plt.imshow(digits.images[0], cmap=plt.cm.gray_r, interpolation=\"nearest\")\n",
        "# Below line of code will error out, bacause data is flattened from image 8x8 matrix. So we will get shape error while ploting.\n",
        "# plt.imshow(X[-1], cmap=plt.cm.gray_r, interpolation=\"nearest\")\n",
        "plt.show()"
      ],
      "metadata": {
        "colab": {
          "base_uri": "https://localhost:8080/",
          "height": 291
        },
        "id": "Uzush2ZpLkuL",
        "outputId": "0d7809e1-6f15-4ebc-bb2d-a4da881985ee"
      },
      "execution_count": 88,
      "outputs": [
        {
          "output_type": "display_data",
          "data": {
            "text/plain": [
              "<Figure size 300x300 with 1 Axes>"
            ],
            "image/png": "[encoded data removed]"
          },
          "metadata": {}
        }
      ]
    },
    {
      "cell_type": "markdown",
      "source": [
        "## Standardise data with StandardScaler\n",
        "- Note: We have used `fit_transform` and `transform`. That's because `fit` has been taken care as part of `fit_transform`. So just `transform` is enough in the next call.\n",
        "- What does `fit` do ?\n",
        "    - Calculates the parameters (e.g. `𝜇` and `𝜎` in case of StandardScaler) and saves them as an internal object's state."
      ],
      "metadata": {
        "id": "XbbbdC09oca1"
      }
    },
    {
      "cell_type": "code",
      "source": [
        "X_train, X_test, y_train, y_test = train_test_split(X, y, test_size=0.2, random_state=42)\n",
        "scaler = StandardScaler()\n",
        "X_train = scaler.fit_transform(X_train)\n",
        "X_test = scaler.transform(X_test)\n"
      ],
      "metadata": {
        "id": "Js17bBWIL3NJ"
      },
      "execution_count": 89,
      "outputs": []
    },
    {
      "cell_type": "markdown",
      "source": [
        "## We will define our own CustomerDataset class that will be inherited from `torch.utils.data,Dataset`"
      ],
      "metadata": {
        "id": "JYN19zvvtDFJ"
      }
    },
    {
      "cell_type": "code",
      "source": [
        "class CustomDataset(Dataset):\n",
        "    def __init__(self, data, target):\n",
        "        self.data = torch.tensor(data, dtype=torch.float32)\n",
        "        self.target = torch.tensor(target, dtype=torch.long)\n",
        "\n",
        "    def __len__(self):\n",
        "        return len(self.data)\n",
        "\n",
        "    def __getitem__(self, index):\n",
        "        sample = {\n",
        "            'data': self.data[index],\n",
        "            'target': self.target[index]\n",
        "        }\n",
        "\n",
        "        return sample\n",
        "\n",
        "\n",
        "train_dataset = CustomDataset(X_train, y_train)\n",
        "test_dataset = CustomDataset(X_test, y_test)\n",
        "\n"
      ],
      "metadata": {
        "id": "2p5VyrTtrhf4"
      },
      "execution_count": 90,
      "outputs": []
    },
    {
      "cell_type": "code",
      "source": [
        "train_data_loader = DataLoader(dataset=train_dataset, batch_size=32, shuffle=True, num_workers=2)\n",
        "test_data_loader = DataLoader(dataset=test_dataset, batch_size=32, shuffle=True, num_workers=2)\n",
        "\n",
        "len(train_data_loader), len(X_train)/32, len(test_data_loader), len(X_test)/32"
      ],
      "metadata": {
        "colab": {
          "base_uri": "https://localhost:8080/"
        },
        "id": "JXwjT96-uN3r",
        "outputId": "37210a86-1fec-425f-fe7f-4852aea1dea4"
      },
      "execution_count": 91,
      "outputs": [
        {
          "output_type": "execute_result",
          "data": {
            "text/plain": [
              "(45, 44.90625, 12, 11.25)"
            ]
          },
          "metadata": {},
          "execution_count": 91
        }
      ]
    },
    {
      "cell_type": "code",
      "source": [
        "class SimpleFCNN(nn.Module):\n",
        "    def __init__(self, input_size, hidden_size, output_size):\n",
        "        super(SimpleFCNN, self).__init__()\n",
        "        self.layer1 = nn.Linear(input_size, hidden_size)\n",
        "        self.relu = nn.ReLU()\n",
        "        self.layer2 = nn.Linear(hidden_size, output_size)\n",
        "\n",
        "    def forward(self, x):\n",
        "        x = self.layer1(x)\n",
        "        x = self.relu(x)\n",
        "        x = self.layer2(x)\n",
        "        return x\n"
      ],
      "metadata": {
        "id": "L0NtZPEAvV26"
      },
      "execution_count": 92,
      "outputs": []
    },
    {
      "cell_type": "code",
      "source": [
        "X_train.shape\n"
      ],
      "metadata": {
        "colab": {
          "base_uri": "https://localhost:8080/"
        },
        "id": "2sJoahJE2O8c",
        "outputId": "ad18e10b-47c8-4077-ab2c-2bee1b1f25df"
      },
      "execution_count": 93,
      "outputs": [
        {
          "output_type": "execute_result",
          "data": {
            "text/plain": [
              "(1437, 64)"
            ]
          },
          "metadata": {},
          "execution_count": 93
        }
      ]
    },
    {
      "cell_type": "code",
      "source": [
        "input_size = X_train.shape[1]\n",
        "hidden_size = 64\n",
        "output_size = len(set(y_train))\n",
        "\n",
        "model_v1 = SimpleFCNN(input_size, hidden_size, output_size)\n",
        "loss_fun = nn.CrossEntropyLoss()\n",
        "optimiser = optim.Adam(model_v1.parameters(), lr = 0.001)\n",
        "\n",
        "\n",
        "epochs = 500\n",
        "all_loss = []\n",
        "\n",
        "for epoch in range(epochs):\n",
        "    model_v1.train()\n",
        "    running_loss = 0.0\n",
        "\n",
        "    for batch in train_data_loader:\n",
        "        inputs = batch['data']\n",
        "        targets = batch['target']\n",
        "\n",
        "        optimiser.zero_grad()\n",
        "        preds = model_v1(inputs)\n",
        "\n",
        "        loss = loss_fun(preds, targets )\n",
        "        all_loss.append(loss.item())\n",
        "        loss.backward()\n",
        "        optimiser.step()\n",
        "\n",
        "        running_loss += loss.item()\n",
        "\n",
        "    #print(f'Epoch {epoch+1}/{epochs}, Loss: {running_loss}')\n",
        "\n",
        "plt.plot(all_loss)\n",
        "plt.show()"
      ],
      "metadata": {
        "colab": {
          "base_uri": "https://localhost:8080/",
          "height": 430
        },
        "id": "ArPOko71wi5c",
        "outputId": "2178fd98-fb0c-45b8-85d4-65cac6976ea4"
      },
      "execution_count": 100,
      "outputs": [
        {
          "output_type": "display_data",
          "data": {
            "text/plain": [
              "<Figure size 640x480 with 1 Axes>"
            ],
            "image/png": "[encoded data removed]"
          },
          "metadata": {}
        }
      ]
    },
    {
      "cell_type": "markdown",
      "source": [
        "## Evaluation of model_v1"
      ],
      "metadata": {
        "id": "FqUA6H5EDaeH"
      }
    },
    {
      "cell_type": "code",
      "source": [
        "model_v1.eval()\n",
        "\n",
        "all_preds = []\n",
        "all_targets = []\n",
        "\n",
        "with torch.no_grad():\n",
        "    correct = 0\n",
        "    total = 0\n",
        "    for batch in test_data_loader:\n",
        "        inputs = batch['data']\n",
        "        targets = batch['target']\n",
        "        preds = model_v1(inputs)\n",
        "        final_preds = torch.argmax(preds,dim=1)\n",
        "        all_preds.extend(final_preds.numpy())\n",
        "        all_targets.extend(targets.numpy())\n",
        "        #print(f'targets.shape: {targets.shape}, preds.shape: {preds.shape}, final_preds.shape: {final_preds.shape}')\n",
        "        total += targets.size(0)\n",
        "        correct += (final_preds == targets).sum().item()\n",
        "\n",
        "\n",
        "accuracy = correct / total\n",
        "print(f'Accuracy : {accuracy}')"
      ],
      "metadata": {
        "colab": {
          "base_uri": "https://localhost:8080/"
        },
        "id": "pDEHjxn8DYt7",
        "outputId": "439e79b3-ae7b-4e98-a64c-9b24757b685d"
      },
      "execution_count": 101,
      "outputs": [
        {
          "output_type": "stream",
          "name": "stdout",
          "text": [
            "Accuracy : 0.9833333333333333\n"
          ]
        }
      ]
    },
    {
      "cell_type": "code",
      "source": [],
      "metadata": {
        "id": "KZJ8QNWLFIjx"
      },
      "execution_count": 95,
      "outputs": []
    }
  ]
}