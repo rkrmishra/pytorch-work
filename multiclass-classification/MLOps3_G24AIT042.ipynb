{
  "cells": [
    {
      "cell_type": "markdown",
      "metadata": {
        "id": "view-in-github",
        "colab_type": "text"
      },
      "source": [
        "<a href=\"https://colab.research.google.com/github/rkrmishra/pytorch-work/blob/main/multiclass-classification/MLOps3_G24AIT042.ipynb\" target=\"_parent\"><img src=\"https://colab.research.google.com/assets/colab-badge.svg\" alt=\"Open In Colab\"/></a>"
      ]
    },
    {
      "cell_type": "markdown",
      "metadata": {
        "id": "nOvskxxyuVFj"
      },
      "source": [
        "# Imports"
      ]
    },
    {
      "cell_type": "markdown",
      "source": [],
      "metadata": {
        "id": "-cgnusDcdw18"
      }
    },
    {
      "cell_type": "markdown",
      "source": [
        "### Link to Project MLOps2025_G24AIT042 Artefacts\n",
        "\n",
        "Link to Project: https://wandb.ai/g24ait042-iit-j/MLOps2025_G24AIT042?nw=nwuserg24ait042\n",
        "\n",
        "Link to Project Report: https://wandb.ai/g24ait042-iit-j/MLOps2025_G24AIT042/reports/Report_MLOps2025_G24AIT042--VmlldzoxMTMzODU5Ng\n"
      ],
      "metadata": {
        "id": "AlLMgoUlHvXF"
      }
    },
    {
      "cell_type": "code",
      "execution_count": 32,
      "metadata": {
        "id": "xUlZmAPKuVFj"
      },
      "outputs": [],
      "source": [
        "!pip install wandb -qU"
      ]
    },
    {
      "cell_type": "code",
      "execution_count": 33,
      "metadata": {
        "id": "EyD4wJXuuVFl"
      },
      "outputs": [],
      "source": [
        "# Log in to your W&B account\n",
        "import wandb\n",
        "import random\n",
        "import math"
      ]
    },
    {
      "cell_type": "code",
      "execution_count": 34,
      "metadata": {
        "id": "1vUegW5tuVFl",
        "colab": {
          "base_uri": "https://localhost:8080/"
        },
        "outputId": "3486ba28-8246-4ba0-e260-2f07ec7c473b"
      },
      "outputs": [
        {
          "output_type": "execute_result",
          "data": {
            "text/plain": [
              "True"
            ]
          },
          "metadata": {},
          "execution_count": 34
        }
      ],
      "source": [
        "wandb.login()"
      ]
    },
    {
      "cell_type": "markdown",
      "source": [
        "# Q1.\n",
        "Dataset and Model Preparation"
      ],
      "metadata": {
        "id": "YYA2TSYTNImQ"
      }
    },
    {
      "cell_type": "code",
      "execution_count": 35,
      "metadata": {
        "id": "t3yj8lMjuVFo"
      },
      "outputs": [],
      "source": [
        "#@title\n",
        "import torch, torchvision\n",
        "import torch.nn as nn\n",
        "from torchvision.datasets import MNIST\n",
        "import torchvision.transforms as T\n",
        "\n",
        "device = \"cuda:0\" if torch.cuda.is_available() else \"cpu\"\n",
        "\n",
        "def get_dataloader(is_train, batch_size, slice=5):\n",
        "    \"Get a training dataloader\"\n",
        "    full_dataset = MNIST(root=\".\", train=is_train, transform=T.ToTensor(), download=True)\n",
        "    sub_dataset = torch.utils.data.Subset(full_dataset, indices=range(0, len(full_dataset), slice))\n",
        "    loader = torch.utils.data.DataLoader(dataset=sub_dataset,\n",
        "                                         batch_size=batch_size,\n",
        "                                         shuffle=True if is_train else False,\n",
        "                                         pin_memory=True, num_workers=2)\n",
        "    return loader\n",
        "\n",
        "def get_model(units):\n",
        "    \"A simple model\"\n",
        "    model = nn.Sequential(nn.Flatten(),\n",
        "                         nn.Linear(28*28, units),\n",
        "                         nn.ReLU(),\n",
        "                         nn.Linear(units,10)).to(device)\n",
        "    return model\n",
        "\n",
        "def validate_model(model, valid_dl, loss_func, log_images=False, batch_idx=0):\n",
        "    \"Compute performance of the model on the validation dataset and log a wandb.Table\"\n",
        "    model.eval()\n",
        "    val_loss = 0.\n",
        "    with torch.inference_mode():\n",
        "        correct = 0\n",
        "        for i, (images, labels) in enumerate(valid_dl):\n",
        "            images, labels = images.to(device), labels.to(device)\n",
        "\n",
        "            # Forward pass ➡\n",
        "            outputs = model(images)\n",
        "            val_loss += loss_func(outputs, labels)*labels.size(0)\n",
        "\n",
        "            # Compute accuracy and accumulate\n",
        "            _, predicted = torch.max(outputs.data, 1)\n",
        "            correct += (predicted == labels).sum().item()\n",
        "\n",
        "            # Log one batch of images to the dashboard, always same batch_idx.\n",
        "            if i==batch_idx and log_images:\n",
        "                log_image_table(images, predicted, labels, outputs.softmax(dim=1))\n",
        "    return val_loss / len(valid_dl.dataset), correct / len(valid_dl.dataset)"
      ]
    },
    {
      "cell_type": "markdown",
      "source": [
        "# Q2.\n",
        "Setting Up the Project & Logging Hyperparameters\n",
        "- Created new WandB accounts using iitj email id\n",
        "- Created a new organization and made change for public viewing\n",
        "- Created a project"
      ],
      "metadata": {
        "id": "v125DCjERkEY"
      }
    },
    {
      "cell_type": "markdown",
      "metadata": {
        "id": "_jJO9KBKuVFo"
      },
      "source": [
        "Create a teble to compare the predicted values versus the true value\n",
        "\n",
        "The following cell is unique to W&B, so let's go over it.\n",
        "\n",
        "In the cell we define a function called `log_image_table`. Though technically, optional, this function creates a W&B Table object. We will use the table object to create a table that shows what the model predicted for each image.\n",
        "\n",
        "More specifically, each row will conists of the image fed to the model, along with predicted value and the actual value (label)."
      ]
    },
    {
      "cell_type": "code",
      "execution_count": 36,
      "metadata": {
        "id": "zPrv_rN-uVFo"
      },
      "outputs": [],
      "source": [
        "def log_image_table(images, predicted, labels, probs):\n",
        "    \"Log a wandb.Table with (img, pred, target, scores)\"\n",
        "    # Create a wandb Table to log images, labels and predictions to\n",
        "    table = wandb.Table(columns=[\"image\", \"pred\", \"target\"]+[f\"score_{i}\" for i in range(10)])\n",
        "    for img, pred, targ, prob in zip(images.to(\"cpu\"), predicted.to(\"cpu\"), labels.to(\"cpu\"), probs.to(\"cpu\")):\n",
        "        table.add_data(wandb.Image(img[0].numpy()*255), pred, targ, *prob.numpy())\n",
        "    wandb.log({\"predictions_table\":table}, commit=False)"
      ]
    },
    {
      "cell_type": "markdown",
      "source": [
        "# Q3.\n",
        "Training and Validation"
      ],
      "metadata": {
        "id": "fiUmHSlVSEzA"
      }
    },
    {
      "cell_type": "markdown",
      "metadata": {
        "id": "olbCdSXguVFo"
      },
      "source": [
        "Train your model and upload checkpoints\n",
        "\n",
        "The following code trains and saves model checkpoints to your project. Use model checkpoints like you normally would to assess how the model performed during training."
      ]
    },
    {
      "cell_type": "code",
      "execution_count": 37,
      "metadata": {
        "id": "qn_9BQ_TuVFo",
        "colab": {
          "base_uri": "https://localhost:8080/",
          "height": 754
        },
        "outputId": "66043494-9624-4457-c875-5d13b33cf049"
      },
      "outputs": [
        {
          "output_type": "display_data",
          "data": {
            "text/plain": [
              "<IPython.core.display.HTML object>"
            ],
            "text/html": [
              "Changes to your `wandb` environment variables will be ignored because your `wandb` session has already started. For more information on how to modify your settings with `wandb.init()` arguments, please refer to <a href='https://wandb.me/wandb-init' target=\"_blank\">the W&B docs</a>."
            ]
          },
          "metadata": {}
        },
        {
          "output_type": "display_data",
          "data": {
            "text/plain": [
              "<IPython.core.display.HTML object>"
            ],
            "text/html": [
              "Ignoring project 'MLOps2025_G24AIT042' when running a sweep."
            ]
          },
          "metadata": {}
        },
        {
          "output_type": "display_data",
          "data": {
            "text/plain": [
              "<IPython.core.display.HTML object>"
            ],
            "text/html": [
              "Tracking run with wandb version 0.19.7"
            ]
          },
          "metadata": {}
        },
        {
          "output_type": "display_data",
          "data": {
            "text/plain": [
              "<IPython.core.display.HTML object>"
            ],
            "text/html": [
              "Run data is saved locally in <code>/content/wandb/run-20250228_113316-lczn7lyx</code>"
            ]
          },
          "metadata": {}
        },
        {
          "output_type": "display_data",
          "data": {
            "text/plain": [
              "<IPython.core.display.HTML object>"
            ],
            "text/html": [
              "Syncing run <strong><a href='https://wandb.ai/g24ait042-iit-j/MLOps2025_G24AIT042/runs/lczn7lyx' target=\"_blank\">expert-sweep-1</a></strong> to <a href='https://wandb.ai/g24ait042-iit-j/MLOps2025_G24AIT042' target=\"_blank\">Weights & Biases</a> (<a href='https://wandb.me/developer-guide' target=\"_blank\">docs</a>)<br>Sweep page: <a href='https://wandb.ai/g24ait042-iit-j/MLOps2025_G24AIT042/sweeps/j2xq7scz' target=\"_blank\">https://wandb.ai/g24ait042-iit-j/MLOps2025_G24AIT042/sweeps/j2xq7scz</a>"
            ]
          },
          "metadata": {}
        },
        {
          "output_type": "display_data",
          "data": {
            "text/plain": [
              "<IPython.core.display.HTML object>"
            ],
            "text/html": [
              " View project at <a href='https://wandb.ai/g24ait042-iit-j/MLOps2025_G24AIT042' target=\"_blank\">https://wandb.ai/g24ait042-iit-j/MLOps2025_G24AIT042</a>"
            ]
          },
          "metadata": {}
        },
        {
          "output_type": "display_data",
          "data": {
            "text/plain": [
              "<IPython.core.display.HTML object>"
            ],
            "text/html": [
              " View sweep at <a href='https://wandb.ai/g24ait042-iit-j/MLOps2025_G24AIT042/sweeps/j2xq7scz' target=\"_blank\">https://wandb.ai/g24ait042-iit-j/MLOps2025_G24AIT042/sweeps/j2xq7scz</a>"
            ]
          },
          "metadata": {}
        },
        {
          "output_type": "display_data",
          "data": {
            "text/plain": [
              "<IPython.core.display.HTML object>"
            ],
            "text/html": [
              " View run at <a href='https://wandb.ai/g24ait042-iit-j/MLOps2025_G24AIT042/runs/lczn7lyx' target=\"_blank\">https://wandb.ai/g24ait042-iit-j/MLOps2025_G24AIT042/runs/lczn7lyx</a>"
            ]
          },
          "metadata": {}
        },
        {
          "output_type": "stream",
          "name": "stdout",
          "text": [
            "Epoch: 1, Train Loss: 0.418, Valid Loss: 0.360714, Accuracy: 0.89\n",
            "Epoch: 2, Train Loss: 0.192, Valid Loss: 0.308578, Accuracy: 0.91\n",
            "Epoch: 3, Train Loss: 0.246, Valid Loss: 0.279094, Accuracy: 0.92\n",
            "Epoch: 4, Train Loss: 0.504, Valid Loss: 0.257133, Accuracy: 0.92\n",
            "Epoch: 5, Train Loss: 0.097, Valid Loss: 0.233352, Accuracy: 0.93\n"
          ]
        },
        {
          "output_type": "display_data",
          "data": {
            "text/plain": [
              "<IPython.core.display.HTML object>"
            ],
            "text/html": []
          },
          "metadata": {}
        },
        {
          "output_type": "display_data",
          "data": {
            "text/plain": [
              "<IPython.core.display.HTML object>"
            ],
            "text/html": [
              "<br>    <style><br>        .wandb-row {<br>            display: flex;<br>            flex-direction: row;<br>            flex-wrap: wrap;<br>            justify-content: flex-start;<br>            width: 100%;<br>        }<br>        .wandb-col {<br>            display: flex;<br>            flex-direction: column;<br>            flex-basis: 100%;<br>            flex: 1;<br>            padding: 10px;<br>        }<br>    </style><br><div class=\"wandb-row\"><div class=\"wandb-col\"><h3>Run history:</h3><br/><table class=\"wandb\"><tr><td>train/epoch</td><td>▁▁▁▁▂▂▂▂▂▃▃▃▃▃▃▄▄▄▅▅▅▅▅▅▅▆▆▆▆▆▇▇▇▇▇▇▇███</td></tr><tr><td>train/example_ct</td><td>▁▁▁▁▂▂▂▃▃▃▃▄▄▄▄▅▅▅▅▅▅▅▅▅▅▆▆▆▆▇▇▇▇▇▇▇▇▇██</td></tr><tr><td>train/train_loss</td><td>█▂▃▃▃▂▄▂▃▂▂▂▄▁▂▁▃▂▂▂▁▃▂▁▂▁▁▁▂▂▂▂▂▂▃▁▂▁▂▁</td></tr><tr><td>val/val_accuracy</td><td>▁▄▆▆█</td></tr><tr><td>val/val_loss</td><td>█▅▄▂▁</td></tr></table><br/></div><div class=\"wandb-col\"><h3>Run summary:</h3><br/><table class=\"wandb\"><tr><td>test_accuracy</td><td>0.8</td></tr><tr><td>train/epoch</td><td>5</td></tr><tr><td>train/example_ct</td><td>60000</td></tr><tr><td>train/train_loss</td><td>0.09663</td></tr><tr><td>val/val_accuracy</td><td>0.9305</td></tr><tr><td>val/val_loss</td><td>0.23335</td></tr></table><br/></div></div>"
            ]
          },
          "metadata": {}
        },
        {
          "output_type": "display_data",
          "data": {
            "text/plain": [
              "<IPython.core.display.HTML object>"
            ],
            "text/html": [
              " View run <strong style=\"color:#cdcd00\">expert-sweep-1</strong> at: <a href='https://wandb.ai/g24ait042-iit-j/MLOps2025_G24AIT042/runs/lczn7lyx' target=\"_blank\">https://wandb.ai/g24ait042-iit-j/MLOps2025_G24AIT042/runs/lczn7lyx</a><br> View project at: <a href='https://wandb.ai/g24ait042-iit-j/MLOps2025_G24AIT042' target=\"_blank\">https://wandb.ai/g24ait042-iit-j/MLOps2025_G24AIT042</a><br>Synced 5 W&B file(s), 1 media file(s), 143 artifact file(s) and 0 other file(s)"
            ]
          },
          "metadata": {}
        },
        {
          "output_type": "display_data",
          "data": {
            "text/plain": [
              "<IPython.core.display.HTML object>"
            ],
            "text/html": [
              "Find logs at: <code>./wandb/run-20250228_113316-lczn7lyx/logs</code>"
            ]
          },
          "metadata": {}
        }
      ],
      "source": [
        "# Launch 1 experiments\n",
        "for _ in range(1):\n",
        "    # initialise a wandb run\n",
        "    wandb.init(\n",
        "        project=\"MLOps2025_G24AIT042\",\n",
        "        config={\n",
        "            \"epochs\": 5,\n",
        "            \"batch_size\": 128,\n",
        "            \"lr\": 1e-3,\n",
        "            \"model\": 256\n",
        "            })\n",
        "\n",
        "    # Copy your config\n",
        "    config = wandb.config\n",
        "\n",
        "    # Get the data\n",
        "    train_dl = get_dataloader(is_train=True, batch_size=config.batch_size)\n",
        "    valid_dl = get_dataloader(is_train=False, batch_size=2*config.batch_size)\n",
        "    n_steps_per_epoch = math.ceil(len(train_dl.dataset) / config.batch_size)\n",
        "\n",
        "    # A simple MLP model\n",
        "    model = get_model(config.model)\n",
        "\n",
        "    # Make the loss and optimizer\n",
        "    loss_func = nn.CrossEntropyLoss()\n",
        "    optimizer = torch.optim.Adam(model.parameters(), lr=config.lr)\n",
        "\n",
        "   # Training\n",
        "    example_ct = 0\n",
        "    step_ct = 0\n",
        "    for epoch in range(config.epochs):\n",
        "        model.train()\n",
        "        for step, (images, labels) in enumerate(train_dl):\n",
        "            images, labels = images.to(device), labels.to(device)\n",
        "\n",
        "            outputs = model(images)\n",
        "            train_loss = loss_func(outputs, labels)\n",
        "            optimizer.zero_grad()\n",
        "            train_loss.backward()\n",
        "            optimizer.step()\n",
        "\n",
        "            example_ct += len(images)\n",
        "            metrics = {\"train/train_loss\": train_loss,\n",
        "                       \"train/epoch\": (step + 1 + (n_steps_per_epoch * epoch)) / n_steps_per_epoch,\n",
        "                       \"train/example_ct\": example_ct}\n",
        "\n",
        "            if step + 1 < n_steps_per_epoch:\n",
        "                # Log train metrics to wandb\n",
        "                wandb.log(metrics)\n",
        "\n",
        "            step_ct += 1\n",
        "\n",
        "        val_loss, accuracy = validate_model(model, valid_dl, loss_func, log_images=(epoch==(config.epochs-1)))\n",
        "\n",
        "        # Log train and validation metrics to wandb\n",
        "        val_metrics = {\"val/val_loss\": val_loss,\n",
        "                       \"val/val_accuracy\": accuracy}\n",
        "        wandb.log({**metrics, **val_metrics})\n",
        "\n",
        "        # Save the model checkpoint to wandb\n",
        "        torch.save(model, \"my_model.pt\")\n",
        "        wandb.log_model(\"./my_model.pt\", \"my_mnist_model\", aliases=[f\"epoch-{epoch+1}_linear_units-{round(wandb.config.model, 4)}\"])\n",
        "\n",
        "        print(f\"Epoch: {epoch+1}, Train Loss: {train_loss:.3f}, Valid Loss: {val_loss:3f}, Accuracy: {accuracy:.2f}\")\n",
        "\n",
        "    # If you had a test set, this is how you could log it as a Summary metric\n",
        "    wandb.summary['test_accuracy'] = 0.8\n",
        "\n",
        "    # Close your wandb run\n",
        "    wandb.finish()"
      ]
    },
    {
      "cell_type": "markdown",
      "source": [
        "# Q4.\n",
        "Hyperparameter Exploration (Sweeps)"
      ],
      "metadata": {
        "id": "hg-Kjz8USLE4"
      }
    },
    {
      "cell_type": "code",
      "source": [
        "# Define hyperparameter sweep configuration\n",
        "sweep_config = {\n",
        "    'method': 'grid',\n",
        "    'metric': {'name': 'val/val_accuracy', 'goal': 'maximize'},\n",
        "    'parameters': {\n",
        "        'epochs': {'values': [5]},\n",
        "        'batch_size': {'values': [64]},\n",
        "        'lr': {'values': [0.001]},\n",
        "        'model': {'values': [128, 256, 512]}\n",
        "    }\n",
        "}"
      ],
      "metadata": {
        "id": "okiDnvipSKdX"
      },
      "execution_count": 41,
      "outputs": []
    },
    {
      "cell_type": "code",
      "source": [
        "def train_and_evaluate(config=None):\n",
        "    with wandb.init(config=config):\n",
        "        config = wandb.config\n",
        "\n",
        "        # Get the data\n",
        "        train_dl = get_dataloader(is_train=True, batch_size=config.batch_size)\n",
        "        valid_dl = get_dataloader(is_train=False, batch_size=2*config.batch_size)\n",
        "        n_steps_per_epoch = math.ceil(len(train_dl.dataset) / config.batch_size)\n",
        "\n",
        "        # A simple MLP model\n",
        "        model = get_model(config.model)\n",
        "\n",
        "        # Make the loss and optimizer\n",
        "        loss_func = nn.CrossEntropyLoss()\n",
        "        optimizer = torch.optim.Adam(model.parameters(), lr=config.lr)\n",
        "\n",
        "        # Training\n",
        "        example_ct = 0\n",
        "        step_ct = 0\n",
        "        for epoch in range(config.epochs):\n",
        "            model.train()\n",
        "            for step, (images, labels) in enumerate(train_dl):\n",
        "                images, labels = images.to(device), labels.to(device)\n",
        "\n",
        "                outputs = model(images)\n",
        "                train_loss = loss_func(outputs, labels)\n",
        "                optimizer.zero_grad()\n",
        "                train_loss.backward()\n",
        "                optimizer.step()\n",
        "\n",
        "                example_ct += len(images)\n",
        "                metrics = {\"train/train_loss\": train_loss.item(),\n",
        "                           \"train/epoch\": (step + 1 + (n_steps_per_epoch * epoch)) / n_steps_per_epoch,\n",
        "                           \"train/example_ct\": example_ct,\n",
        "                           \"train/step\": step_ct}\n",
        "\n",
        "                wandb.log(metrics)\n",
        "                step_ct += 1\n",
        "\n",
        "            val_loss, accuracy = validate_model(model, valid_dl, loss_func, log_images=(epoch==(config.epochs-1)))\n",
        "            val_metrics = {\"val/val_loss\": val_loss,\n",
        "                           \"val/val_accuracy\": accuracy}\n",
        "            wandb.log({**metrics, **val_metrics})\n",
        "\n",
        "            # Save the model checkpoint to wandb\n",
        "            torch.save(model, \"my_model.pt\")\n",
        "            wandb.log_model(\"./my_model.pt\", \"my_mnist_model\", aliases=[f\"epoch-{epoch+1}_linear_units-{round(wandb.config.model, 4)}\"])\n",
        "\n",
        "            print(f\"Epoch: {epoch+1}, Train Loss: {train_loss:.3f}, Valid Loss: {val_loss:3f}, Accuracy: {accuracy:.2f}\")\n",
        "\n",
        "        wandb.summary['test_accuracy'] = 0.8\n",
        "        wandb.finish()"
      ],
      "metadata": {
        "id": "q9spRHN5SKap"
      },
      "execution_count": 42,
      "outputs": []
    },
    {
      "cell_type": "code",
      "source": [
        "# Initialize sweep\n",
        "sweep_id = wandb.sweep(sweep_config, project=\"MLOps2025_G24AIT042\")\n",
        "wandb.agent(sweep_id, train_and_evaluate, count=3)"
      ],
      "metadata": {
        "id": "892Okk3bSKYK",
        "colab": {
          "base_uri": "https://localhost:8080/",
          "height": 1000
        },
        "outputId": "dab78c94-9ea6-492c-9c59-30c56e318b09"
      },
      "execution_count": 43,
      "outputs": [
        {
          "output_type": "stream",
          "name": "stdout",
          "text": [
            "Create sweep with ID: ewlgi6q4\n",
            "Sweep URL: https://wandb.ai/g24ait042-iit-j/MLOps2025_G24AIT042/sweeps/ewlgi6q4\n"
          ]
        },
        {
          "output_type": "stream",
          "name": "stderr",
          "text": [
            "\u001b[34m\u001b[1mwandb\u001b[0m: Agent Starting Run: 9dzu2f2c with config:\n",
            "\u001b[34m\u001b[1mwandb\u001b[0m: \tbatch_size: 64\n",
            "\u001b[34m\u001b[1mwandb\u001b[0m: \tepochs: 5\n",
            "\u001b[34m\u001b[1mwandb\u001b[0m: \tlr: 0.001\n",
            "\u001b[34m\u001b[1mwandb\u001b[0m: \tmodel: 128\n"
          ]
        },
        {
          "output_type": "display_data",
          "data": {
            "text/plain": [
              "<IPython.core.display.HTML object>"
            ],
            "text/html": [
              "Tracking run with wandb version 0.19.7"
            ]
          },
          "metadata": {}
        },
        {
          "output_type": "display_data",
          "data": {
            "text/plain": [
              "<IPython.core.display.HTML object>"
            ],
            "text/html": [
              "Run data is saved locally in <code>/content/wandb/run-20250228_113524-9dzu2f2c</code>"
            ]
          },
          "metadata": {}
        },
        {
          "output_type": "display_data",
          "data": {
            "text/plain": [
              "<IPython.core.display.HTML object>"
            ],
            "text/html": [
              "Syncing run <strong><a href='https://wandb.ai/g24ait042-iit-j/MLOps2025_G24AIT042/runs/9dzu2f2c' target=\"_blank\">classic-sweep-1</a></strong> to <a href='https://wandb.ai/g24ait042-iit-j/MLOps2025_G24AIT042' target=\"_blank\">Weights & Biases</a> (<a href='https://wandb.me/developer-guide' target=\"_blank\">docs</a>)<br>Sweep page: <a href='https://wandb.ai/g24ait042-iit-j/MLOps2025_G24AIT042/sweeps/ewlgi6q4' target=\"_blank\">https://wandb.ai/g24ait042-iit-j/MLOps2025_G24AIT042/sweeps/ewlgi6q4</a>"
            ]
          },
          "metadata": {}
        },
        {
          "output_type": "display_data",
          "data": {
            "text/plain": [
              "<IPython.core.display.HTML object>"
            ],
            "text/html": [
              " View project at <a href='https://wandb.ai/g24ait042-iit-j/MLOps2025_G24AIT042' target=\"_blank\">https://wandb.ai/g24ait042-iit-j/MLOps2025_G24AIT042</a>"
            ]
          },
          "metadata": {}
        },
        {
          "output_type": "display_data",
          "data": {
            "text/plain": [
              "<IPython.core.display.HTML object>"
            ],
            "text/html": [
              " View sweep at <a href='https://wandb.ai/g24ait042-iit-j/MLOps2025_G24AIT042/sweeps/ewlgi6q4' target=\"_blank\">https://wandb.ai/g24ait042-iit-j/MLOps2025_G24AIT042/sweeps/ewlgi6q4</a>"
            ]
          },
          "metadata": {}
        },
        {
          "output_type": "display_data",
          "data": {
            "text/plain": [
              "<IPython.core.display.HTML object>"
            ],
            "text/html": [
              " View run at <a href='https://wandb.ai/g24ait042-iit-j/MLOps2025_G24AIT042/runs/9dzu2f2c' target=\"_blank\">https://wandb.ai/g24ait042-iit-j/MLOps2025_G24AIT042/runs/9dzu2f2c</a>"
            ]
          },
          "metadata": {}
        },
        {
          "output_type": "stream",
          "name": "stdout",
          "text": [
            "Epoch: 1, Train Loss: 0.346, Valid Loss: 0.369918, Accuracy: 0.89\n",
            "Epoch: 2, Train Loss: 0.189, Valid Loss: 0.316781, Accuracy: 0.90\n",
            "Epoch: 3, Train Loss: 0.124, Valid Loss: 0.271605, Accuracy: 0.92\n",
            "Epoch: 4, Train Loss: 0.145, Valid Loss: 0.245622, Accuracy: 0.93\n",
            "Epoch: 5, Train Loss: 0.093, Valid Loss: 0.224655, Accuracy: 0.94\n"
          ]
        },
        {
          "output_type": "display_data",
          "data": {
            "text/plain": [
              "<IPython.core.display.HTML object>"
            ],
            "text/html": []
          },
          "metadata": {}
        },
        {
          "output_type": "display_data",
          "data": {
            "text/plain": [
              "<IPython.core.display.HTML object>"
            ],
            "text/html": [
              "<br>    <style><br>        .wandb-row {<br>            display: flex;<br>            flex-direction: row;<br>            flex-wrap: wrap;<br>            justify-content: flex-start;<br>            width: 100%;<br>        }<br>        .wandb-col {<br>            display: flex;<br>            flex-direction: column;<br>            flex-basis: 100%;<br>            flex: 1;<br>            padding: 10px;<br>        }<br>    </style><br><div class=\"wandb-row\"><div class=\"wandb-col\"><h3>Run history:</h3><br/><table class=\"wandb\"><tr><td>train/epoch</td><td>▁▁▁▂▂▃▃▃▃▃▃▄▄▄▄▄▄▅▅▅▅▅▅▅▆▆▆▆▇▇▇▇▇▇▇█████</td></tr><tr><td>train/example_ct</td><td>▁▁▁▁▁▁▂▂▂▂▂▂▃▃▃▃▄▄▄▄▄▄▄▅▅▅▅▅▆▆▆▆▇▇▇▇▇███</td></tr><tr><td>train/step</td><td>▁▁▁▂▂▂▂▃▃▃▄▄▄▄▅▅▅▅▅▅▆▆▆▆▆▆▆▆▇▇▇▇▇▇▇▇▇███</td></tr><tr><td>train/train_loss</td><td>█▇▆▅▄▄▃▂▄▂▃▂▂▃▃▃▄▃▃▂▂▃▃▂▂▂▃▂▂▁▃▂▃▁▂▁▃▁▂▁</td></tr><tr><td>val/val_accuracy</td><td>▁▃▅▇█</td></tr><tr><td>val/val_loss</td><td>█▅▃▂▁</td></tr></table><br/></div><div class=\"wandb-col\"><h3>Run summary:</h3><br/><table class=\"wandb\"><tr><td>test_accuracy</td><td>0.8</td></tr><tr><td>train/epoch</td><td>5</td></tr><tr><td>train/example_ct</td><td>60000</td></tr><tr><td>train/step</td><td>939</td></tr><tr><td>train/train_loss</td><td>0.09326</td></tr><tr><td>val/val_accuracy</td><td>0.9355</td></tr><tr><td>val/val_loss</td><td>0.22466</td></tr></table><br/></div></div>"
            ]
          },
          "metadata": {}
        },
        {
          "output_type": "display_data",
          "data": {
            "text/plain": [
              "<IPython.core.display.HTML object>"
            ],
            "text/html": [
              " View run <strong style=\"color:#cdcd00\">classic-sweep-1</strong> at: <a href='https://wandb.ai/g24ait042-iit-j/MLOps2025_G24AIT042/runs/9dzu2f2c' target=\"_blank\">https://wandb.ai/g24ait042-iit-j/MLOps2025_G24AIT042/runs/9dzu2f2c</a><br> View project at: <a href='https://wandb.ai/g24ait042-iit-j/MLOps2025_G24AIT042' target=\"_blank\">https://wandb.ai/g24ait042-iit-j/MLOps2025_G24AIT042</a><br>Synced 5 W&B file(s), 1 media file(s), 143 artifact file(s) and 0 other file(s)"
            ]
          },
          "metadata": {}
        },
        {
          "output_type": "display_data",
          "data": {
            "text/plain": [
              "<IPython.core.display.HTML object>"
            ],
            "text/html": [
              "Find logs at: <code>./wandb/run-20250228_113524-9dzu2f2c/logs</code>"
            ]
          },
          "metadata": {}
        },
        {
          "output_type": "stream",
          "name": "stderr",
          "text": [
            "\u001b[34m\u001b[1mwandb\u001b[0m: Agent Starting Run: y3o1e1ca with config:\n",
            "\u001b[34m\u001b[1mwandb\u001b[0m: \tbatch_size: 64\n",
            "\u001b[34m\u001b[1mwandb\u001b[0m: \tepochs: 5\n",
            "\u001b[34m\u001b[1mwandb\u001b[0m: \tlr: 0.001\n",
            "\u001b[34m\u001b[1mwandb\u001b[0m: \tmodel: 256\n"
          ]
        },
        {
          "output_type": "display_data",
          "data": {
            "text/plain": [
              "<IPython.core.display.HTML object>"
            ],
            "text/html": [
              "Tracking run with wandb version 0.19.7"
            ]
          },
          "metadata": {}
        },
        {
          "output_type": "display_data",
          "data": {
            "text/plain": [
              "<IPython.core.display.HTML object>"
            ],
            "text/html": [
              "Run data is saved locally in <code>/content/wandb/run-20250228_113545-y3o1e1ca</code>"
            ]
          },
          "metadata": {}
        },
        {
          "output_type": "display_data",
          "data": {
            "text/plain": [
              "<IPython.core.display.HTML object>"
            ],
            "text/html": [
              "Syncing run <strong><a href='https://wandb.ai/g24ait042-iit-j/MLOps2025_G24AIT042/runs/y3o1e1ca' target=\"_blank\">ruby-sweep-2</a></strong> to <a href='https://wandb.ai/g24ait042-iit-j/MLOps2025_G24AIT042' target=\"_blank\">Weights & Biases</a> (<a href='https://wandb.me/developer-guide' target=\"_blank\">docs</a>)<br>Sweep page: <a href='https://wandb.ai/g24ait042-iit-j/MLOps2025_G24AIT042/sweeps/ewlgi6q4' target=\"_blank\">https://wandb.ai/g24ait042-iit-j/MLOps2025_G24AIT042/sweeps/ewlgi6q4</a>"
            ]
          },
          "metadata": {}
        },
        {
          "output_type": "display_data",
          "data": {
            "text/plain": [
              "<IPython.core.display.HTML object>"
            ],
            "text/html": [
              " View project at <a href='https://wandb.ai/g24ait042-iit-j/MLOps2025_G24AIT042' target=\"_blank\">https://wandb.ai/g24ait042-iit-j/MLOps2025_G24AIT042</a>"
            ]
          },
          "metadata": {}
        },
        {
          "output_type": "display_data",
          "data": {
            "text/plain": [
              "<IPython.core.display.HTML object>"
            ],
            "text/html": [
              " View sweep at <a href='https://wandb.ai/g24ait042-iit-j/MLOps2025_G24AIT042/sweeps/ewlgi6q4' target=\"_blank\">https://wandb.ai/g24ait042-iit-j/MLOps2025_G24AIT042/sweeps/ewlgi6q4</a>"
            ]
          },
          "metadata": {}
        },
        {
          "output_type": "display_data",
          "data": {
            "text/plain": [
              "<IPython.core.display.HTML object>"
            ],
            "text/html": [
              " View run at <a href='https://wandb.ai/g24ait042-iit-j/MLOps2025_G24AIT042/runs/y3o1e1ca' target=\"_blank\">https://wandb.ai/g24ait042-iit-j/MLOps2025_G24AIT042/runs/y3o1e1ca</a>"
            ]
          },
          "metadata": {}
        },
        {
          "output_type": "stream",
          "name": "stdout",
          "text": [
            "Epoch: 1, Train Loss: 0.388, Valid Loss: 0.322507, Accuracy: 0.90\n",
            "Epoch: 2, Train Loss: 0.308, Valid Loss: 0.277811, Accuracy: 0.92\n",
            "Epoch: 3, Train Loss: 0.534, Valid Loss: 0.237170, Accuracy: 0.93\n",
            "Epoch: 4, Train Loss: 0.342, Valid Loss: 0.209885, Accuracy: 0.94\n",
            "Epoch: 5, Train Loss: 0.251, Valid Loss: 0.189221, Accuracy: 0.94\n"
          ]
        },
        {
          "output_type": "display_data",
          "data": {
            "text/plain": [
              "<IPython.core.display.HTML object>"
            ],
            "text/html": []
          },
          "metadata": {}
        },
        {
          "output_type": "display_data",
          "data": {
            "text/plain": [
              "<IPython.core.display.HTML object>"
            ],
            "text/html": [
              "<br>    <style><br>        .wandb-row {<br>            display: flex;<br>            flex-direction: row;<br>            flex-wrap: wrap;<br>            justify-content: flex-start;<br>            width: 100%;<br>        }<br>        .wandb-col {<br>            display: flex;<br>            flex-direction: column;<br>            flex-basis: 100%;<br>            flex: 1;<br>            padding: 10px;<br>        }<br>    </style><br><div class=\"wandb-row\"><div class=\"wandb-col\"><h3>Run history:</h3><br/><table class=\"wandb\"><tr><td>train/epoch</td><td>▁▁▁▁▂▂▂▂▂▂▂▃▃▃▃▃▃▃▃▃▄▄▅▅▅▅▅▅▅▅▆▆▆▇▇▇▇▇██</td></tr><tr><td>train/example_ct</td><td>▁▁▂▂▂▂▃▃▃▃▄▄▄▄▄▅▅▅▅▅▅▅▅▅▅▆▆▆▆▆▆▇▇▇▇▇▇███</td></tr><tr><td>train/step</td><td>▁▁▁▁▁▂▂▂▂▃▃▃▃▄▄▄▄▄▄▄▅▅▅▅▅▆▆▆▆▆▆▆▇▇▇▇▇▇██</td></tr><tr><td>train/train_loss</td><td>█▇▄▃▃▂▂▂▂▂▁▂▂▂▂▂▁▂▂▁▂▁▁▁▁▁▁▁▁▂▂▁▁▁▁▁▁▁▁▁</td></tr><tr><td>val/val_accuracy</td><td>▁▃▅▇█</td></tr><tr><td>val/val_loss</td><td>█▆▄▂▁</td></tr></table><br/></div><div class=\"wandb-col\"><h3>Run summary:</h3><br/><table class=\"wandb\"><tr><td>test_accuracy</td><td>0.8</td></tr><tr><td>train/epoch</td><td>5</td></tr><tr><td>train/example_ct</td><td>60000</td></tr><tr><td>train/step</td><td>939</td></tr><tr><td>train/train_loss</td><td>0.25053</td></tr><tr><td>val/val_accuracy</td><td>0.9435</td></tr><tr><td>val/val_loss</td><td>0.18922</td></tr></table><br/></div></div>"
            ]
          },
          "metadata": {}
        },
        {
          "output_type": "display_data",
          "data": {
            "text/plain": [
              "<IPython.core.display.HTML object>"
            ],
            "text/html": [
              " View run <strong style=\"color:#cdcd00\">ruby-sweep-2</strong> at: <a href='https://wandb.ai/g24ait042-iit-j/MLOps2025_G24AIT042/runs/y3o1e1ca' target=\"_blank\">https://wandb.ai/g24ait042-iit-j/MLOps2025_G24AIT042/runs/y3o1e1ca</a><br> View project at: <a href='https://wandb.ai/g24ait042-iit-j/MLOps2025_G24AIT042' target=\"_blank\">https://wandb.ai/g24ait042-iit-j/MLOps2025_G24AIT042</a><br>Synced 5 W&B file(s), 1 media file(s), 143 artifact file(s) and 0 other file(s)"
            ]
          },
          "metadata": {}
        },
        {
          "output_type": "display_data",
          "data": {
            "text/plain": [
              "<IPython.core.display.HTML object>"
            ],
            "text/html": [
              "Find logs at: <code>./wandb/run-20250228_113545-y3o1e1ca/logs</code>"
            ]
          },
          "metadata": {}
        },
        {
          "output_type": "stream",
          "name": "stderr",
          "text": [
            "\u001b[34m\u001b[1mwandb\u001b[0m: Sweep Agent: Waiting for job.\n",
            "\u001b[34m\u001b[1mwandb\u001b[0m: Job received.\n",
            "\u001b[34m\u001b[1mwandb\u001b[0m: Agent Starting Run: o1t2pqje with config:\n",
            "\u001b[34m\u001b[1mwandb\u001b[0m: \tbatch_size: 64\n",
            "\u001b[34m\u001b[1mwandb\u001b[0m: \tepochs: 5\n",
            "\u001b[34m\u001b[1mwandb\u001b[0m: \tlr: 0.001\n",
            "\u001b[34m\u001b[1mwandb\u001b[0m: \tmodel: 512\n"
          ]
        },
        {
          "output_type": "display_data",
          "data": {
            "text/plain": [
              "<IPython.core.display.HTML object>"
            ],
            "text/html": [
              "Tracking run with wandb version 0.19.7"
            ]
          },
          "metadata": {}
        },
        {
          "output_type": "display_data",
          "data": {
            "text/plain": [
              "<IPython.core.display.HTML object>"
            ],
            "text/html": [
              "Run data is saved locally in <code>/content/wandb/run-20250228_113616-o1t2pqje</code>"
            ]
          },
          "metadata": {}
        },
        {
          "output_type": "display_data",
          "data": {
            "text/plain": [
              "<IPython.core.display.HTML object>"
            ],
            "text/html": [
              "Syncing run <strong><a href='https://wandb.ai/g24ait042-iit-j/MLOps2025_G24AIT042/runs/o1t2pqje' target=\"_blank\">dainty-sweep-3</a></strong> to <a href='https://wandb.ai/g24ait042-iit-j/MLOps2025_G24AIT042' target=\"_blank\">Weights & Biases</a> (<a href='https://wandb.me/developer-guide' target=\"_blank\">docs</a>)<br>Sweep page: <a href='https://wandb.ai/g24ait042-iit-j/MLOps2025_G24AIT042/sweeps/ewlgi6q4' target=\"_blank\">https://wandb.ai/g24ait042-iit-j/MLOps2025_G24AIT042/sweeps/ewlgi6q4</a>"
            ]
          },
          "metadata": {}
        },
        {
          "output_type": "display_data",
          "data": {
            "text/plain": [
              "<IPython.core.display.HTML object>"
            ],
            "text/html": [
              " View project at <a href='https://wandb.ai/g24ait042-iit-j/MLOps2025_G24AIT042' target=\"_blank\">https://wandb.ai/g24ait042-iit-j/MLOps2025_G24AIT042</a>"
            ]
          },
          "metadata": {}
        },
        {
          "output_type": "display_data",
          "data": {
            "text/plain": [
              "<IPython.core.display.HTML object>"
            ],
            "text/html": [
              " View sweep at <a href='https://wandb.ai/g24ait042-iit-j/MLOps2025_G24AIT042/sweeps/ewlgi6q4' target=\"_blank\">https://wandb.ai/g24ait042-iit-j/MLOps2025_G24AIT042/sweeps/ewlgi6q4</a>"
            ]
          },
          "metadata": {}
        },
        {
          "output_type": "display_data",
          "data": {
            "text/plain": [
              "<IPython.core.display.HTML object>"
            ],
            "text/html": [
              " View run at <a href='https://wandb.ai/g24ait042-iit-j/MLOps2025_G24AIT042/runs/o1t2pqje' target=\"_blank\">https://wandb.ai/g24ait042-iit-j/MLOps2025_G24AIT042/runs/o1t2pqje</a>"
            ]
          },
          "metadata": {}
        },
        {
          "output_type": "stream",
          "name": "stdout",
          "text": [
            "Epoch: 1, Train Loss: 0.334, Valid Loss: 0.317736, Accuracy: 0.90\n",
            "Epoch: 2, Train Loss: 0.056, Valid Loss: 0.237817, Accuracy: 0.93\n",
            "Epoch: 3, Train Loss: 0.179, Valid Loss: 0.194244, Accuracy: 0.94\n",
            "Epoch: 4, Train Loss: 0.041, Valid Loss: 0.176693, Accuracy: 0.94\n",
            "Epoch: 5, Train Loss: 0.073, Valid Loss: 0.169724, Accuracy: 0.95\n"
          ]
        },
        {
          "output_type": "display_data",
          "data": {
            "text/plain": [
              "<IPython.core.display.HTML object>"
            ],
            "text/html": []
          },
          "metadata": {}
        },
        {
          "output_type": "display_data",
          "data": {
            "text/plain": [
              "<IPython.core.display.HTML object>"
            ],
            "text/html": [
              "<br>    <style><br>        .wandb-row {<br>            display: flex;<br>            flex-direction: row;<br>            flex-wrap: wrap;<br>            justify-content: flex-start;<br>            width: 100%;<br>        }<br>        .wandb-col {<br>            display: flex;<br>            flex-direction: column;<br>            flex-basis: 100%;<br>            flex: 1;<br>            padding: 10px;<br>        }<br>    </style><br><div class=\"wandb-row\"><div class=\"wandb-col\"><h3>Run history:</h3><br/><table class=\"wandb\"><tr><td>train/epoch</td><td>▁▁▁▂▂▂▂▂▂▃▃▃▃▃▃▃▃▄▄▄▄▅▅▅▅▅▅▅▆▆▆▇▇▇▇▇▇███</td></tr><tr><td>train/example_ct</td><td>▁▁▁▂▂▂▂▂▃▃▃▃▃▄▄▄▄▄▄▄▅▅▅▆▆▆▆▇▇▇▇▇▇▇▇█████</td></tr><tr><td>train/step</td><td>▁▁▁▁▂▂▂▂▂▃▃▃▄▄▄▄▄▅▅▅▅▅▅▅▅▆▆▆▆▇▇▇▇▇▇▇▇███</td></tr><tr><td>train/train_loss</td><td>█▅▇█▆▆▃▅▄▅▄▆▄▃▅▃▄▄▂▂▂▄▂▃▁▂▂▃▃▅▄▂▄▄▃▂▁▁▁▂</td></tr><tr><td>val/val_accuracy</td><td>▁▅▇▇█</td></tr><tr><td>val/val_loss</td><td>█▄▂▁▁</td></tr></table><br/></div><div class=\"wandb-col\"><h3>Run summary:</h3><br/><table class=\"wandb\"><tr><td>test_accuracy</td><td>0.8</td></tr><tr><td>train/epoch</td><td>5</td></tr><tr><td>train/example_ct</td><td>60000</td></tr><tr><td>train/step</td><td>939</td></tr><tr><td>train/train_loss</td><td>0.07318</td></tr><tr><td>val/val_accuracy</td><td>0.9505</td></tr><tr><td>val/val_loss</td><td>0.16972</td></tr></table><br/></div></div>"
            ]
          },
          "metadata": {}
        },
        {
          "output_type": "display_data",
          "data": {
            "text/plain": [
              "<IPython.core.display.HTML object>"
            ],
            "text/html": [
              " View run <strong style=\"color:#cdcd00\">dainty-sweep-3</strong> at: <a href='https://wandb.ai/g24ait042-iit-j/MLOps2025_G24AIT042/runs/o1t2pqje' target=\"_blank\">https://wandb.ai/g24ait042-iit-j/MLOps2025_G24AIT042/runs/o1t2pqje</a><br> View project at: <a href='https://wandb.ai/g24ait042-iit-j/MLOps2025_G24AIT042' target=\"_blank\">https://wandb.ai/g24ait042-iit-j/MLOps2025_G24AIT042</a><br>Synced 5 W&B file(s), 1 media file(s), 143 artifact file(s) and 0 other file(s)"
            ]
          },
          "metadata": {}
        },
        {
          "output_type": "display_data",
          "data": {
            "text/plain": [
              "<IPython.core.display.HTML object>"
            ],
            "text/html": [
              "Find logs at: <code>./wandb/run-20250228_113616-o1t2pqje/logs</code>"
            ]
          },
          "metadata": {}
        }
      ]
    },
    {
      "cell_type": "code",
      "source": [],
      "metadata": {
        "id": "MjyOb-LaSKVw"
      },
      "execution_count": 40,
      "outputs": []
    },
    {
      "cell_type": "code",
      "source": [],
      "metadata": {
        "id": "06XJ4tsNSKTX"
      },
      "execution_count": 40,
      "outputs": []
    },
    {
      "cell_type": "code",
      "source": [],
      "metadata": {
        "id": "DjdStDjZSKOp"
      },
      "execution_count": 40,
      "outputs": []
    }
  ],
  "metadata": {
    "colab": {
      "provenance": [],
      "gpuType": "T4",
      "include_colab_link": true
    },
    "kernelspec": {
      "display_name": "Python 3",
      "name": "python3"
    }
  },
  "nbformat": 4,
  "nbformat_minor": 0
}